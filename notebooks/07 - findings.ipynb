{
 "cells": [
  {
   "cell_type": "markdown",
   "metadata": {},
   "source": [
    "#### Notebook 7: Model Evaluation"
   ]
  },
  {
   "cell_type": "markdown",
   "metadata": {},
   "source": [
    "In this notebook, I have completed my models and will now focus on gaining actionable insights for the business case."
   ]
  },
  {
   "cell_type": "markdown",
   "metadata": {},
   "source": [
    "![Alt text](untitled:Untitled-1.ipynb/image.png?jupyter-notebook)"
   ]
  },
  {
   "cell_type": "markdown",
   "metadata": {},
   "source": [
    "Here we can see that the models which use unigrams perform much better and have high accuracy scores. Although, this is fantastic, for our use case it doesn't do any justice. \n",
    "\n",
    "On the downside, there is not an optimal amount of preprocessing done to really tackle the intricacies of the features. Ideally we would want to have all words related to location removed to allow for a more accuract depiction of the coefficients. Nevertheless, we can argue that this model is usable, on a very basic level but enough to predict and completely understand customer sentiment.\n",
    "\n",
    "\n",
    "\n"
   ]
  },
  {
   "cell_type": "markdown",
   "metadata": {},
   "source": [
    "#### Actionable Insights"
   ]
  },
  {
   "cell_type": "markdown",
   "metadata": {},
   "source": [
    "**Customer service is key!**:\n",
    "\n",
    "* It would probably come at no surprise that the main thing consumers were mostly upset about was customer service. Essentially, all airlines need to do is the bare minimum - get passengers from A to B, and they would be more likely to leave a positive, or worst case a neutral review. \n",
    "\n",
    "* It is very possible that staff training might be required, or having some sort of policy against rude staff to deter staff members from going rougue on customers. \n",
    "\n",
    "**Business Class Anyone?**\n",
    "\n",
    "* Business Class flights tend to receive a mmuch more positive reaction, due to the service being very indicative of its value. It is worth noting that all current structures regarding business class are to be kept the same.\n",
    "\n"
   ]
  },
  {
   "cell_type": "markdown",
   "metadata": {},
   "source": [
    "_______"
   ]
  },
  {
   "cell_type": "markdown",
   "metadata": {},
   "source": [
    "#### Next Steps\n",
    "\n",
    "We have been able to extract a few findings, although not optimal but there is always room for improvement. The following are the next steps to make this project better in the future:\n",
    "\n",
    "* More Data, More Data, More Data! It is safe to say that the model lacked a lot of data to train it for the specific use case. Yes it was able to pick out the odd topic with bi-grams, however it was not 100% optimal for our use case. I am however proud that at the bare minimum our model can definitely detect sentiment on a basic level, which will allow for some automation... "
   ]
  },
  {
   "cell_type": "code",
   "execution_count": null,
   "metadata": {},
   "outputs": [],
   "source": []
  },
  {
   "cell_type": "code",
   "execution_count": null,
   "metadata": {},
   "outputs": [],
   "source": []
  },
  {
   "cell_type": "code",
   "execution_count": null,
   "metadata": {},
   "outputs": [],
   "source": []
  },
  {
   "cell_type": "code",
   "execution_count": null,
   "metadata": {},
   "outputs": [],
   "source": []
  },
  {
   "cell_type": "code",
   "execution_count": null,
   "metadata": {},
   "outputs": [],
   "source": []
  },
  {
   "cell_type": "code",
   "execution_count": null,
   "metadata": {},
   "outputs": [],
   "source": []
  },
  {
   "cell_type": "code",
   "execution_count": null,
   "metadata": {},
   "outputs": [],
   "source": []
  },
  {
   "cell_type": "code",
   "execution_count": null,
   "metadata": {},
   "outputs": [],
   "source": []
  },
  {
   "cell_type": "code",
   "execution_count": null,
   "metadata": {},
   "outputs": [],
   "source": []
  },
  {
   "cell_type": "code",
   "execution_count": null,
   "metadata": {},
   "outputs": [],
   "source": []
  },
  {
   "cell_type": "code",
   "execution_count": null,
   "metadata": {},
   "outputs": [],
   "source": []
  }
 ],
 "metadata": {
  "kernelspec": {
   "display_name": "faisal-env",
   "language": "python",
   "name": "python3"
  },
  "language_info": {
   "name": "python",
   "version": "3.8.18"
  },
  "orig_nbformat": 4
 },
 "nbformat": 4,
 "nbformat_minor": 2
}
